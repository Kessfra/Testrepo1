{
 "cells": [
  {
   "cell_type": "markdown",
   "id": "c2fa321b-7a55-41d3-8a6c-c2980ded7dc5",
   "metadata": {},
   "source": [
    "# Data Science Tools and Ecosystem"
   ]
  },
  {
   "cell_type": "markdown",
   "id": "c21cd359-5849-463f-b296-c0c6f5ef6229",
   "metadata": {},
   "source": [
    "In this notebook, Data Science Tools and Ecosystem are summarized."
   ]
  },
  {
   "cell_type": "markdown",
   "id": "dba6af41-b32f-4b8a-a84f-340236f79229",
   "metadata": {},
   "source": [
    "**Objectives:**\n",
    "- List popular languages for Data Science\n",
    "- List popular libraries for Data Science\n",
    "- Create a code cell to evaluate an arithmetic operation"
   ]
  },
  {
   "cell_type": "markdown",
   "id": "91310b48-8289-4df1-a3bc-35306d4e431b",
   "metadata": {},
   "source": [
    "Some of the popular languages that Data Scientists use are:\n",
    "1. Python\r\n",
    "2. QL\r\n",
    "3. R\r\n",
    "4. JavaScript\r\n",
    "cal5tlib"
   ]
  },
  {
   "cell_type": "markdown",
   "id": "487eced2-a7a8-4809-9f86-549aaff16c8c",
   "metadata": {},
   "source": [
    "Some of the commonly used libraries used by Data Scientists include:\n",
    "1. TensorFlow\n",
    "2. NumPy\n",
    "3. SciPy \n",
    "4. Pandas\n",
    "5. Matplotlib"
   ]
  },
  {
   "cell_type": "markdown",
   "id": "1eaa6177-5908-40bf-8320-9f722f56f8c8",
   "metadata": {},
   "source": [
    "|Data Science Tools|\n",
    "--------------------\n",
    "|Jupyter Notebooks|\n",
    "|Apache Zeppelin|\n",
    "|Rstudio|\n"
   ]
  },
  {
   "cell_type": "markdown",
   "id": "61660fd7-b758-4ae4-a05d-4ad0f2e836ac",
   "metadata": {},
   "source": [
    "### Below are a few examples of evaluating arithmetic expressions in Python.\n"
   ]
  },
  {
   "cell_type": "code",
   "execution_count": null,
   "id": "0c9d149c-41be-420c-8a8f-117528c6df9e",
   "metadata": {},
   "outputs": [],
   "source": [
    "#This a simple arithmetic expression to mutiply then add integers\n",
    "(3*4)+5"
   ]
  },
  {
   "cell_type": "code",
   "execution_count": 9,
   "id": "1a5f47bd-aabc-4d82-ba5b-1803cf8c5e58",
   "metadata": {},
   "outputs": [
    {
     "name": "stdout",
     "output_type": "stream",
     "text": [
      "3.3333333333333335 hours\n"
     ]
    }
   ],
   "source": [
    "#This will convert 200 minutes to hours by diving by 60\n",
    "total_minutes = 200\n",
    "total_hours = total_minutes /60\n",
    "print(total_hours,\"hours\")"
   ]
  },
  {
   "cell_type": "markdown",
   "id": "7274a285-eecc-4963-b499-b411f5b0a9b4",
   "metadata": {},
   "source": [
    "## Author\n",
    "Kwame Essel"
   ]
  }
 ],
 "metadata": {
  "kernelspec": {
   "display_name": "Python 3 (ipykernel)",
   "language": "python",
   "name": "python3"
  },
  "language_info": {
   "codemirror_mode": {
    "name": "ipython",
    "version": 3
   },
   "file_extension": ".py",
   "mimetype": "text/x-python",
   "name": "python",
   "nbconvert_exporter": "python",
   "pygments_lexer": "ipython3",
   "version": "3.12.2"
  }
 },
 "nbformat": 4,
 "nbformat_minor": 5
}
